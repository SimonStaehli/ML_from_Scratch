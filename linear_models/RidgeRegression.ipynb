{
 "cells": [
  {
   "cell_type": "markdown",
   "metadata": {},
   "source": [
    "# Ridge Rigression\n",
    "\n",
    "This notebook implements an implementation of the Ridge Rigression. The implementation of the Ridge Regression has two different forms. Once with `normal equation` and once with `Gradient Descent`.\n",
    "\n",
    "### Theory\n",
    "\n",
    "The cost-function for Ridge Regression looks as follows. This term looks alike the cost-function of simple Linear Regression, but has one additional term, which is related to the model paramters $\\beta$. if we optimize this cost objective the parameters will automatically penalized by this term $\\alpha\\sum_{j=1}^{p} \\beta_j^2$. Our model will shrink large coefficients depeding on the weight $\\alpha$ which has to be defined at the initialization of the model.\n",
    "\n",
    "\n",
    "\\begin{equation}\n",
    "J(\\beta) = \\frac{1}{2N}\\sum_{i=1}^{N} (y^{(i)}-\\beta_0 - \\sum_{j=1}^{p} x^{(i)}_j\\beta_j)^2 + \\alpha\\sum_{j=1}^{p} \\beta_j^2 \n",
    "\\end{equation}"
   ]
  },
  {
   "cell_type": "markdown",
   "metadata": {},
   "source": [
    "### Derivation of Cost-Function\n",
    "\n",
    "#### Derivation of the cost-function w.r.t. $\\beta_0$:\n",
    "\n",
    "$$\\frac{\\partial J(\\beta)}{\\beta_0}= \\frac{1}{N} \\sum_{i=1}^{N} -1*(y^{(i)} - \\beta_0 - \\sum_{j=1}^{p} x^{(i)}_j\\beta_j)$$\n",
    "\n",
    "Important to mention here is that $\\beta_0$ will not be regularized, so the L2-Regularization terms falls off the equation. This formula can also be rewritten in matrix-notation which will be much more helpful for the implementation:\n",
    "\n",
    "$$\\nabla J(\\beta) = \n",
    "\\frac{\\partial J(\\beta)}{\\partial \\beta_0} =\n",
    "-\\frac{1}{N}e^T(y-X\\beta)$$\n",
    "\n",
    "Here the vector $e \\in R^{nx1}$ is a vector , which consists of 1's only.\n",
    "\n",
    "\n",
    "#### Derivation of the cost-function w.r.t. $\\beta_{1...n}$:\n",
    "\n",
    "$$\\nabla J(\\beta) = \n",
    "\\frac{\\partial J(\\beta)}{\\partial \\beta_0} = \n",
    "\\frac{1}{N} \\sum_{i=1}^{N}-x^{(i)}(y^{(i)} - \\beta_0 - \\sum_{j=1}^{p} x^{(i)}_j\\beta_j) + 2\\alpha\\sum_{j=1}^{p} \\beta_j$$\n",
    "\n",
    "Here again we can rewrite the gradient in matrix notation. We end-up with following equation:\n",
    "\n",
    "$$\\nabla J(\\beta) = \n",
    "\\frac{\\partial J(\\beta)}{\\partial \\beta} =\n",
    "-\\frac{1}{N}X^T(y-X\\beta)+2\\alpha\\beta$$\n",
    "\n",
    "\n",
    "#### Normal Equation\n",
    "\n",
    "if the term above without the normalization on a sample ($\\frac{1}{N}$) is considered to be zero we have an equation which we can be solved. First we make the term a little bit simpler solving the term in brackets and remove the scalar of 2:\n",
    "\n",
    "$$-2X^T(y-X\\beta)+2\\alpha\\beta = 0 \\longrightarrow\n",
    "-2X^Ty + 2X^TX\\beta + 2\\alpha\\beta = 0  \\longrightarrow\n",
    "-X^Ty + X^TX\\beta + \\alpha\\beta = 0\n",
    "$$\n",
    "\n",
    "Next we solve the equation to $\\beta$:\n",
    "\n",
    "$$\n",
    "X^TX\\beta + \\alpha\\beta = X^Ty \\longrightarrow\n",
    "(X^TX+\\alpha)\\beta = X^Ty \\longrightarrow\n",
    "(X^TX+\\alpha)^{-1}(X^TX+\\alpha)\\beta = (X^TX+\\alpha)^{-1}X^Ty \n",
    "$$\n",
    "\n",
    "Finally we end-up with this equation. As $\\alpha$ can not multiplied like this we have to multiply it first with Identity-Matrix $I$ with same shaoe as parameters, where the first index is zero as we do not want to penalize $\\beta_0$.\n",
    "\n",
    "$$\\beta = (X^TX+\\alpha I)^{-1}X^Ty\n",
    "$$\n",
    "\n",
    "This equatio represents the `normal equation` of our Regression Model."
   ]
  },
  {
   "cell_type": "markdown",
   "metadata": {},
   "source": [
    "### Implementation"
   ]
  },
  {
   "cell_type": "code",
   "execution_count": 13,
   "metadata": {},
   "outputs": [],
   "source": [
    "import numpy as np\n",
    "import pandas as pd\n",
    "import seaborn as sns\n",
    "from sklearn.base import BaseEstimator\n",
    "from sklearn.model_selection import train_test_split\n",
    "from sklearn.datasets import load_boston\n",
    "from matplotlib import pyplot as plt"
   ]
  },
  {
   "cell_type": "code",
   "execution_count": 5,
   "metadata": {},
   "outputs": [],
   "source": [
    "X, y = load_boston(return_X_y=True)"
   ]
  },
  {
   "cell_type": "code",
   "execution_count": 285,
   "metadata": {},
   "outputs": [],
   "source": [
    "from sklearn.base import BaseEstimator\n",
    "\n",
    "class RidgeRegression(BaseEstimator):\n",
    "    \"\"\"Implementation of Ridge Regression with L2-Regularizaion\"\"\"\n",
    "    \n",
    "    def __init__(self, opt_method='gd', alpha=1., eta=0.0001, maxsteps=100, eps=0.00001):\n",
    "        '''Implements a Ridge Regression estimator.\n",
    "        \n",
    "        Arguments\n",
    "        ---------\n",
    "        alpha:      Regularization proportionality factor. Larger values\n",
    "                    correspond with stronger regularization.\n",
    "                    \n",
    "        opt_method: Optimization method to choose for the cost function.\n",
    "                    Can be either 'gd' (Gradient Descent) or 'neq'.\n",
    "                    \n",
    "        maxsteps:   Maximum number of Gradient Descent steps to take.\n",
    "        \n",
    "        eps:        Epsilon, length of gradient to be reached with Gradient\n",
    "                    Descent.\n",
    "                    \n",
    "        eta:        Fixed step lenght to take at each gradient descent\n",
    "                    iteration.\n",
    "        '''\n",
    "        # parameters\n",
    "        self.alpha = alpha\n",
    "        self.opt_method = opt_method\n",
    "        self.maxsteps = maxsteps\n",
    "        self.eps = eps\n",
    "        self.eta = eta\n",
    "        # attributes\n",
    "        # model coefficients\n",
    "        self.beta_ = None\n",
    "        # values of cost function along gradient descent iterations\n",
    "        self.costs_ = []       \n",
    "        \n",
    "    def fit(self, X, y):\n",
    "        '''\n",
    "        Fits the model to the given data predictors X to a target y\n",
    "        \n",
    "        arguments:\n",
    "        --------------\n",
    "        X:         Training data X\n",
    "        y:         Training Data y\n",
    "        '''        \n",
    "        if self.opt_method == 'neq':\n",
    "            self.normalequation(X, y)  \n",
    "        elif self.opt_method == 'gd':\n",
    "            self.gradient_descent(X, y)\n",
    "        else:\n",
    "            raise Exception(f\"Choose opt_method 'neq' or 'gd'. You've chosen {self.opt_method}\")\n",
    "        \n",
    "        return self\n",
    "        \n",
    "    def gradient_descent(self, X, y):\n",
    "        '''\n",
    "        Computes the coefficients of the ridge regression cost function\n",
    "        using gradient descent.\n",
    "        \n",
    "        \n",
    "        arguments:\n",
    "        --------------\n",
    "        X:         Training data X\n",
    "        y:         Training Data y\n",
    "        '''\n",
    "        X = np.hstack((np.ones(X.shape[0]).reshape(-1,1), X)) \n",
    "\n",
    "        # Set start parameter beta\n",
    "        self.beta_ = np.random.uniform(size=(X.shape[1]))\n",
    "        \n",
    "        # Set start parameter to pass first iteration of while loop\n",
    "        grad = np.ones(shape=(X.shape[1]))\n",
    "        steps = 0\n",
    "        while steps < self.maxsteps and np.linalg.norm(self.eta*grad) > self.eps:\n",
    "            \n",
    "            grad = self.gradient(beta=self.beta_, X=X, y=y, alpha=self.alpha)\n",
    "            self.beta_ = self.beta_ - self.eta * grad\n",
    "            self.costs_.append(self.costfunction(beta=self.beta_, X=X, y=y, alpha=self.alpha))\n",
    "            \n",
    "            steps += 1\n",
    "            \n",
    "        \n",
    "    def normalequation(self , X, y):\n",
    "        '''\n",
    "        Computes the coefficients of the ridge regression cost function\n",
    "        using the normalequation.\n",
    "        \n",
    "        \n",
    "        arguments:\n",
    "        --------------\n",
    "        X:         Training data X\n",
    "        y:         Training Data y\n",
    "        \n",
    "        '''      \n",
    "        # Add additional Axis for beta 0 with ones only\n",
    "        X = np.hstack((np.ones(X.shape[0]).reshape(-1,1), X)) \n",
    "        \n",
    "        # Create Matrix for regulation term with first line zeros\n",
    "        I = np.identity(X.shape[1]) \n",
    "        I[0, 0] = 0\n",
    "        \n",
    "        # Normalequation with regulation term\n",
    "        self.beta_ = np.linalg.inv(X.T @ X + self.alpha * I) @ X.T @ y\n",
    "                \n",
    "                \n",
    "    @staticmethod\n",
    "    def gradient(beta, X, y, alpha):\n",
    "        '''\n",
    "        (array, array, array, float) --> array\n",
    "        \n",
    "        Computes and returns the gradient of the ridge regression cost function.\n",
    "        \n",
    "        \n",
    "        arguments:\n",
    "        --------------\n",
    "        X:         Training data X\n",
    "        y:         Training Data y\n",
    "        alpha:     scalar factor for L2-regularization\n",
    "        \n",
    "        returns:\n",
    "        ---------------\n",
    "        gradient:  Calculated gradient of derived cost-objective\n",
    "        \n",
    "        gradient([1,2,3], X, y, 0.1)\n",
    "        >>> [1.11,1.2]\n",
    "        '''        \n",
    "        y_pred = X @ beta\n",
    "        \n",
    "        # Gradient beta 0\n",
    "        gradient_b0 = -1/X.shape[0] * np.ones(X.shape[0]).T @ y_pred\n",
    "    \n",
    "        # Gradient beta 1..n\n",
    "        gradient = ((-1/X.shape[0]) * X.T) @ (y - y_pred) \n",
    "        # Make beta0 to 0 to not regulize\n",
    "        beta[0] = 0\n",
    "        # Add regulation term and replace beta0\n",
    "        gradient = gradient + 2*alpha*beta \n",
    "        \n",
    "        gradient[0] = gradient_b0\n",
    "        \n",
    "        return gradient\n",
    "    \n",
    "    @staticmethod \n",
    "    def costfunction(beta,X,y,alpha):\n",
    "        '''\n",
    "        (array, array, array, float) --> float\n",
    "        \n",
    "        Computes and returns the value of the ridge regression cost function.\n",
    "        cost = (1/(2*n)) * sum((y - pred)**2)\n",
    "        \n",
    "        \n",
    "        arguments:\n",
    "        --------------\n",
    "        beta:      Model parameters\n",
    "        X:         Training data X\n",
    "        y:         Training Data y\n",
    "        alpha:     scalar factor for L2-regularization\n",
    "        \n",
    "        costfunction(beta, X, y, 1)\n",
    "        >>> 34.31\n",
    "        '''\n",
    "        pred = X @ beta\n",
    "        cost = (1/X.shape[0]) * np.sum((y - pred)**2) + alpha * np.sum(beta[1:]**2)\n",
    "        \n",
    "        return cost\n",
    "    \n",
    "    def predict(self, X):\n",
    "        '''\n",
    "        (array) --> array\n",
    "        \n",
    "        Computes the predictions of the current model.\n",
    "        pred = X @ b\n",
    "        \n",
    "        \n",
    "        arguments:\n",
    "        --------------\n",
    "        X:         Training data X\n",
    "\n",
    "        \n",
    "        model.predict(X)\n",
    "        >>> [[1],[2],[3] ... [n]]\n",
    "        '''\n",
    "        X = np.hstack((np.ones(X.shape[0]).reshape(-1,1), X)) \n",
    "\n",
    "        return X @ self.beta_\n",
    "\n",
    "    \n",
    "    def score(self, X, y):\n",
    "        '''\n",
    "        (array, array) --> float\n",
    "        \n",
    "        Returns R^2 for given input/output data given the model\n",
    "        coefficients.\n",
    "        \n",
    "        Formula: 1 - SST/SSR\n",
    "        \n",
    "        arguments:\n",
    "        --------------        \n",
    "        X:         Training data X\n",
    "        \n",
    "        y:         Train data y        \n",
    "        \n",
    "        model.score(X,y)\n",
    "        >>> 0.91\n",
    "        '''\n",
    "        SSR = np.sum((y - self.predict(X))**2)\n",
    "        SST = np.sum((y - np.mean(y))**2)\n",
    "        \n",
    "        return 1 - SSR/SST"
   ]
  },
  {
   "cell_type": "code",
   "execution_count": 192,
   "metadata": {},
   "outputs": [],
   "source": [
    "from sklearn.linear_model import Ridge"
   ]
  },
  {
   "cell_type": "code",
   "execution_count": 195,
   "metadata": {},
   "outputs": [
    {
     "data": {
      "text/plain": [
       "array([-2.13627228,  1.36475698, -2.84611616])"
      ]
     },
     "execution_count": 195,
     "metadata": {},
     "output_type": "execute_result"
    }
   ],
   "source": [
    "model = Ridge(alpha=1)\n",
    "model.fit(X[:,:3],y)\n",
    "model.coef_"
   ]
  },
  {
   "cell_type": "markdown",
   "metadata": {},
   "source": [
    "### Check"
   ]
  },
  {
   "cell_type": "code",
   "execution_count": 210,
   "metadata": {},
   "outputs": [
    {
     "name": "stdout",
     "output_type": "stream",
     "text": [
      "[22.53280632 -2.13627228  1.36475698 -2.84611616]\n"
     ]
    }
   ],
   "source": [
    "ridge = RidgeRegression(opt_method='neq', alpha=1)\n",
    "ridge.fit(X[:,:3],y)\n",
    "print(ridge.beta_)"
   ]
  },
  {
   "cell_type": "code",
   "execution_count": 259,
   "metadata": {},
   "outputs": [
    {
     "data": {
      "image/png": "[encoded data removed]",
      "text/plain": [
       "<Figure size 864x432 with 1 Axes>"
      ]
     },
     "metadata": {
      "needs_background": "light"
     },
     "output_type": "display_data"
    }
   ],
   "source": [
    "coefficients = {}\n",
    "for a in range(0, 500, 5):\n",
    "    ridge = RidgeRegression(opt_method='neq', alpha=a)\n",
    "    ridge.fit(X[:,:5], y)\n",
    "    coefficients[a] = ridge.beta_[1:]\n",
    "\n",
    "fig = plt.subplots(figsize=(12, 6))\n",
    "tmp = pd.DataFrame(coefficients)\n",
    "\n",
    "for i in tmp.index.to_list():\n",
    "    p = sns.lineplot(x=tmp.columns.to_list(), y=tmp.loc[i], label=r'$\\beta$'+str(i+1))\n",
    "    \n",
    "sns.despine()\n",
    "plt.ylabel(r'$\\beta$')\n",
    "plt.xlabel(r'Regularization Strength $\\alpha$')\n",
    "plt.title('L2-Regularization strength on Modell Coefficients', loc='left', fontsize=13)\n",
    "\n",
    "plt.show()"
   ]
  },
  {
   "cell_type": "code",
   "execution_count": 283,
   "metadata": {},
   "outputs": [
    {
     "name": "stdout",
     "output_type": "stream",
     "text": [
      "[-0.30505542  0.27691566 -0.37904603]\n"
     ]
    }
   ],
   "source": [
    "ridge = RidgeRegression(opt_method='gd', alpha=10, eps=1e-7, eta=.01, maxsteps=10000)\n",
    "ridge.fit(X[:,:3],y)\n",
    "print(ridge.beta_[1:])"
   ]
  },
  {
   "cell_type": "code",
   "execution_count": 279,
   "metadata": {},
   "outputs": [
    {
     "data": {
      "text/plain": [
       "[<matplotlib.lines.Line2D at 0x204172385b0>]"
      ]
     },
     "execution_count": 279,
     "metadata": {},
     "output_type": "execute_result"
    },
    {
     "data": {
      "image/png": "[encoded data removed]",
      "text/plain": [
       "<Figure size 432x288 with 1 Axes>"
      ]
     },
     "metadata": {
      "needs_background": "light"
     },
     "output_type": "display_data"
    }
   ],
   "source": [
    "plt.plot(ridge.costs_)"
   ]
  },
  {
   "cell_type": "code",
   "execution_count": 278,
   "metadata": {},
   "outputs": [
    {
     "data": {
      "text/plain": [
       "array([-2.13627228,  1.36475698, -2.84611616])"
      ]
     },
     "execution_count": 278,
     "metadata": {},
     "output_type": "execute_result"
    }
   ],
   "source": [
    "model = Ridge(alpha=1)\n",
    "model.fit(X[:,:3],y)\n",
    "model.coef_"
   ]
  },
  {
   "cell_type": "markdown",
   "metadata": {},
   "source": [
    "### Sources\n",
    "\n",
    "pthesling (https://stats.stackexchange.com/users/64162/pthesling), How to derive the ridge regression solution?, URL (version: 2017-07-17): https://stats.stackexchange.com/q/164540\n",
    "\n",
    "Murphy, K. P. (2012). Machine learning: a probabilistic perspective. MIT press."
   ]
  },
  {
   "cell_type": "code",
   "execution_count": null,
   "metadata": {},
   "outputs": [],
   "source": []
  }
 ],
 "metadata": {
  "kernelspec": {
   "display_name": "Python 3",
   "language": "python",
   "name": "python3"
  },
  "language_info": {
   "codemirror_mode": {
    "name": "ipython",
    "version": 3
   },
   "file_extension": ".py",
   "mimetype": "text/x-python",
   "name": "python",
   "nbconvert_exporter": "python",
   "pygments_lexer": "ipython3",
   "version": "3.8.5"
  }
 },
 "nbformat": 4,
 "nbformat_minor": 4
}
